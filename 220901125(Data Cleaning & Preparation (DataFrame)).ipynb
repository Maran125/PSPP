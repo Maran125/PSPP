{
 "cells": [
  {
   "cell_type": "code",
   "execution_count": 2,
   "id": "c8427125",
   "metadata": {},
   "outputs": [
    {
     "name": "stdout",
     "output_type": "stream",
     "text": [
      "Original DataFrame with NaN\n",
      "         one       two     three\n",
      "a -0.688438 -0.893727 -0.243529\n",
      "b       NaN       NaN       NaN\n",
      "c -0.775684 -0.860447 -1.661958\n",
      "d       NaN       NaN       NaN\n",
      "e -0.561138  0.545595 -0.109976\n",
      "f -0.549187 -0.773170  1.441681\n",
      "g       NaN       NaN       NaN\n",
      "h -0.412806 -0.443015  0.665410\n",
      "\n",
      "\n",
      "Dropped DataFrame\n",
      "         one       two     three\n",
      "a -0.688438 -0.893727 -0.243529\n",
      "c -0.775684 -0.860447 -1.661958\n",
      "e -0.561138  0.545595 -0.109976\n",
      "f -0.549187 -0.773170  1.441681\n",
      "h -0.412806 -0.443015  0.665410\n",
      "\n",
      "\n"
     ]
    }
   ],
   "source": [
    "import pandas as pd\n",
    "import numpy as np\n",
    "df=pd.DataFrame(np.random.randn(5,3),index=['a','c','e','f','h'],columns=['one','two','three'])\n",
    "df=df.reindex(['a','b','c','d','e','f','g','h'])\n",
    "print(\"Original DataFrame with NaN\\n\",df)\n",
    "print(\"\\n\")\n",
    "print(\"Dropped DataFrame\\n\",df.dropna())\n",
    "print(\"\\n\")"
   ]
  },
  {
   "cell_type": "code",
   "execution_count": 6,
   "id": "a30840eb",
   "metadata": {},
   "outputs": [
    {
     "name": "stdout",
     "output_type": "stream",
     "text": [
      "Original DataFrame:\n",
      "         one       two    threew\n",
      "a  0.440053  1.487600 -0.262953\n",
      "b       NaN       NaN       NaN\n",
      "c  0.553404  0.536437 -0.672452\n",
      "\n",
      "\n",
      "NaN replaced with '0':\n",
      "\n",
      "        one       two    threew\n",
      "a  0.440053  1.487600 -0.262953\n",
      "b  0.000000  0.000000  0.000000\n",
      "c  0.553404  0.536437 -0.672452\n"
     ]
    }
   ],
   "source": [
    "df=pd.DataFrame(np.random.randn(3,3),index=['a','c','e'],columns=['one','two','threew'])\n",
    "df=df.reindex(['a','b','c'])\n",
    "print(\"Original DataFrame:\\n\",df)\n",
    "print(\"\\n\")\n",
    "print(\"NaN replaced with '0':\\n\")\n",
    "print(df.fillna(0))"
   ]
  },
  {
   "cell_type": "code",
   "execution_count": 7,
   "id": "0fb8a8e3",
   "metadata": {},
   "outputs": [
    {
     "name": "stdout",
     "output_type": "stream",
     "text": [
      "\n",
      "Original DataFrame:\n",
      "     one   tow\n",
      "0    10  1000\n",
      "1    20     0\n",
      "2    30    30\n",
      "3    40    40\n",
      "4    50    50\n",
      "5  2000    60\n",
      "\n",
      " DataFrame with replaced values:\n",
      "\n",
      "   one  tow\n",
      "0   10   10\n",
      "1   20  100\n",
      "2   30   30\n",
      "3  400  400\n",
      "4   50   50\n",
      "5   60   60\n",
      "   one  tow\n",
      "0   10   10\n",
      "1   20  100\n",
      "2   30   30\n",
      "3  400  400\n",
      "4   50   50\n",
      "5   60   60\n"
     ]
    }
   ],
   "source": [
    "df=pd.DataFrame({'one':[10,20,30,40,50,2000],'tow':[1000,0,30,40,50,60]})\n",
    "print(\"\\nOriginal DataFrame:\\n\",df)\n",
    "print(\"\\n DataFrame with replaced values:\\n\")\n",
    "print(df.replace({1000:10,2000:60,40:400,0:100}))\n",
    "print(df.replace({1000:10,2000:60,40:400,0:100}))"
   ]
  },
  {
   "cell_type": "code",
   "execution_count": 8,
   "id": "469bf5e1",
   "metadata": {},
   "outputs": [
    {
     "name": "stdout",
     "output_type": "stream",
     "text": [
      "\n",
      "Original DataFrame:\n",
      "         one       two     three\n",
      "a -0.389100 -0.326711  0.499384\n",
      "b       NaN       NaN       NaN\n",
      "c  0.769483 -0.321350  1.148800\n",
      "d       NaN       NaN       NaN\n",
      "e  0.811379 -1.304441  0.291939\n",
      "f -0.238112 -0.668010 -0.442412\n",
      "g       NaN       NaN       NaN\n",
      "h -0.892656  1.300026 -0.721127\n",
      "\n",
      "Nan-with true fill:\n",
      "\n",
      "a    False\n",
      "b     True\n",
      "c    False\n",
      "d     True\n",
      "e    False\n",
      "f    False\n",
      "g     True\n",
      "h    False\n",
      "Name: one, dtype: bool\n"
     ]
    }
   ],
   "source": [
    "df=pd.DataFrame(np.random.randn(5,3),index=['a','c','e','f','h'],columns=['one','two','three'])\n",
    "df=df.reindex(['a','b','c','d','e','f','g','h'])\n",
    "print(\"\\nOriginal DataFrame:\\n\",df)\n",
    "print(\"\\nNan-with true fill:\\n\")\n",
    "print(df['one'].isnull())"
   ]
  },
  {
   "cell_type": "code",
   "execution_count": 11,
   "id": "98e814e6",
   "metadata": {},
   "outputs": [
    {
     "name": "stdout",
     "output_type": "stream",
     "text": [
      "\n",
      "Original DataFrame:\n",
      "         one       tow     three\n",
      "a  0.676504 -1.606501  0.456131\n",
      "b       NaN       NaN       NaN\n",
      "c -0.154359  0.026121  1.864389\n",
      "d       NaN       NaN       NaN\n",
      "e  0.333644  1.102530 -0.126678\n",
      "f -1.549565 -0.567318 -1.848548\n",
      "g       NaN       NaN       NaN\n",
      "h  0.745349  1.864914 -1.450915\n",
      "\n",
      "NaN-Filled with Froward values:\n",
      "\n",
      "        one       tow     three\n",
      "a  0.676504 -1.606501  0.456131\n",
      "b  0.676504 -1.606501  0.456131\n",
      "c -0.154359  0.026121  1.864389\n",
      "d -0.154359  0.026121  1.864389\n",
      "e  0.333644  1.102530 -0.126678\n",
      "f -1.549565 -0.567318 -1.848548\n",
      "g -1.549565 -0.567318 -1.848548\n",
      "h  0.745349  1.864914 -1.450915\n",
      "\n",
      "NaN-Filled with Background values:\n",
      "\n",
      "        one       tow     three\n",
      "a  0.676504 -1.606501  0.456131\n",
      "b -0.154359  0.026121  1.864389\n",
      "c -0.154359  0.026121  1.864389\n",
      "d  0.333644  1.102530 -0.126678\n",
      "e  0.333644  1.102530 -0.126678\n",
      "f -1.549565 -0.567318 -1.848548\n",
      "g  0.745349  1.864914 -1.450915\n",
      "h  0.745349  1.864914 -1.450915\n"
     ]
    }
   ],
   "source": [
    "df=pd.DataFrame(np.random.randn(5,3),index=['a','c','e','f','h'],columns=['one','tow','three'])\n",
    "df=df.reindex(['a','b','c','d','e','f','g','h'])\n",
    "print(\"\\nOriginal DataFrame:\\n\",df)\n",
    "print(\"\\nNaN-Filled with Froward values:\\n\")\n",
    "print(df.fillna(method='pad'))\n",
    "print(\"\\nNaN-Filled with Background values:\\n\")\n",
    "print(df.fillna(method='bfill'))"
   ]
  },
  {
   "cell_type": "code",
   "execution_count": null,
   "id": "02a19f04",
   "metadata": {},
   "outputs": [],
   "source": []
  }
 ],
 "metadata": {
  "kernelspec": {
   "display_name": "Python 3 (ipykernel)",
   "language": "python",
   "name": "python3"
  },
  "language_info": {
   "codemirror_mode": {
    "name": "ipython",
    "version": 3
   },
   "file_extension": ".py",
   "mimetype": "text/x-python",
   "name": "python",
   "nbconvert_exporter": "python",
   "pygments_lexer": "ipython3",
   "version": "3.11.3"
  }
 },
 "nbformat": 4,
 "nbformat_minor": 5
}

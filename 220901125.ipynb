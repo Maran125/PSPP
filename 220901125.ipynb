{
 "cells": [
  {
   "cell_type": "code",
   "execution_count": 1,
   "id": "cda8b44a",
   "metadata": {},
   "outputs": [
    {
     "name": "stdout",
     "output_type": "stream",
     "text": [
      "     Name  Age Marks\n",
      "0     Jai   17    90\n",
      "1  Princi   18    76\n",
      "2   Sanav   17   NaN\n"
     ]
    }
   ],
   "source": [
    "import pandas as pd\n",
    "data = {'Name': ['Jai', 'Princi', 'Sanav'],\n",
    "       'Age': [17,18,17],\n",
    "        'Marks': [90,76,'NaN']}\n",
    "df = pd.DataFrame(data)\n",
    "print(df)\n"
   ]
  },
  {
   "cell_type": "code",
   "execution_count": 2,
   "id": "7101d586",
   "metadata": {},
   "outputs": [
    {
     "name": "stdout",
     "output_type": "stream",
     "text": [
      "     Name  Age  Marks\n",
      "0     Jai   17   90.0\n",
      "1  Princi   18   76.0\n",
      "2   Sanav   17   83.0\n"
     ]
    }
   ],
   "source": [
    "c = avg = 0\n",
    "for ele in df['Marks']:\n",
    "    if str(ele).isnumeric():\n",
    "        c += 1\n",
    "        avg += ele\n",
    "avg/=c\n",
    "    \n",
    "df = df.replace(to_replace=\"NaN\",value=avg)\n",
    "print(df)"
   ]
  },
  {
   "cell_type": "code",
   "execution_count": 3,
   "id": "907851c6",
   "metadata": {},
   "outputs": [
    {
     "name": "stdout",
     "output_type": "stream",
     "text": [
      "     Name  Marks\n",
      "0     Jai   90.0\n",
      "1  Princi   76.0\n",
      "2   Sanav   83.0\n"
     ]
    }
   ],
   "source": [
    "df = df[df['Marks']>=75]\n",
    "df = df.drop(['Age'],axis=1)\n",
    "print(df)"
   ]
  },
  {
   "cell_type": "code",
   "execution_count": null,
   "id": "028db9ec",
   "metadata": {},
   "outputs": [],
   "source": [
    "one = pd.DataFrame({\n",
    "'Name': ['Alex', 'Amy', 'Allen', 'Alice', 'Ayoung'],\n",
    "\"subject_id\":['sub1', 'sub2', 'sub4', 'sub6', 'sub5'],\n",
    "\"Marks_scored\":[198,90,87,69,78]},\n",
    "index=[1,2,3,4,5])\n",
    "two = pd.DataFrame({\n",
    "'Name': ['Billy', 'Brian', 'Bran', 'Bryce', 'Betty'],\n",
    "'subject_id':['sub2', 'sub4', 'sub3', 'sub6', 'sub5'],\n",
    "\"Marks_scored\":[189,80,79,97,88]},\n",
    "index= [1,2,3,4,5])\n",
    "\n",
    "print( pd.concat([one,two]))"
   ]
  }
 ],
 "metadata": {
  "kernelspec": {
   "display_name": "Python 3 (ipykernel)",
   "language": "python",
   "name": "python3"
  },
  "language_info": {
   "codemirror_mode": {
    "name": "ipython",
    "version": 3
   },
   "file_extension": ".py",
   "mimetype": "text/x-python",
   "name": "python",
   "nbconvert_exporter": "python",
   "pygments_lexer": "ipython3",
   "version": "3.11.5"
  }
 },
 "nbformat": 4,
 "nbformat_minor": 5
}

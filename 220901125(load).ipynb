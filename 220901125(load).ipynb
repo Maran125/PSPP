{
 "cells": [
  {
   "cell_type": "code",
   "execution_count": 5,
   "id": "75147808",
   "metadata": {},
   "outputs": [
    {
     "name": "stdout",
     "output_type": "stream",
     "text": [
      "    First Name  Gender  Start Date Last Login Time  Salary  Bonus %  \\\n",
      "0      Douglas    Male    8/6/1993        12:42 PM   97308    6.945   \n",
      "1       Thomas    Male   3/31/1996         6:53 AM   61933    4.170   \n",
      "2        Maria  Female   4/23/1993        11:17 AM  130590   11.858   \n",
      "3        Jerry    Male    3/4/2005         1:00 PM  138705    9.340   \n",
      "4        Larry    Male   1/24/1998         4:47 PM  101004    1.389   \n",
      "..         ...     ...         ...             ...     ...      ...   \n",
      "995      Henry     NaN  11/23/2014         6:09 AM  132483   16.655   \n",
      "996    Phillip    Male   1/31/1984         6:30 AM   42392   19.675   \n",
      "997    Russell    Male   5/20/2013        12:39 PM   96914    1.421   \n",
      "998      Larry    Male   4/20/2013         4:45 PM   60500   11.985   \n",
      "999     Albert    Male   5/15/2012         6:24 PM  129949   10.169   \n",
      "\n",
      "    Senior Management                  Team  \n",
      "0                True             Marketing  \n",
      "1                True                   NaN  \n",
      "2               False               Finance  \n",
      "3                True               Finance  \n",
      "4                True       Client Services  \n",
      "..                ...                   ...  \n",
      "995             False          Distribution  \n",
      "996             False               Finance  \n",
      "997             False               Product  \n",
      "998             False  Business Development  \n",
      "999              True                 Sales  \n",
      "\n",
      "[1000 rows x 8 columns]\n"
     ]
    }
   ],
   "source": [
    "import pandas as pd\n",
    "d=pd.read_csv(r\"C:\\Users\\Tcs\\Documents\\employees.csv\")\n",
    "print(d)"
   ]
  },
  {
   "cell_type": "code",
   "execution_count": 6,
   "id": "b969336f",
   "metadata": {},
   "outputs": [
    {
     "name": "stdout",
     "output_type": "stream",
     "text": [
      "\n",
      "Get the column heading\n",
      " Index(['First Name', 'Gender', 'Start Date', 'Last Login Time', 'Salary',\n",
      "       'Bonus %', 'Senior Management', 'Team'],\n",
      "      dtype='object')\n"
     ]
    }
   ],
   "source": [
    "df=pd.DataFrame(d)\n",
    "print(\"\\nGet the column heading\\n\",df.columns)"
   ]
  },
  {
   "cell_type": "code",
   "execution_count": 7,
   "id": "8be12b2d",
   "metadata": {},
   "outputs": [
    {
     "name": "stdout",
     "output_type": "stream",
     "text": [
      "\n",
      "Get the shape.(no.of row,no.of columns)\n",
      " (1000, 8)\n"
     ]
    }
   ],
   "source": [
    "print(\"\\nGet the shape.(no.of row,no.of columns)\\n\",df.shape)"
   ]
  },
  {
   "cell_type": "code",
   "execution_count": 9,
   "id": "ce4911cb",
   "metadata": {},
   "outputs": [
    {
     "name": "stdout",
     "output_type": "stream",
     "text": [
      "\n",
      "Get particular column values\n",
      " 0        Male\n",
      "1        Male\n",
      "2      Female\n",
      "3        Male\n",
      "4        Male\n",
      "        ...  \n",
      "995       NaN\n",
      "996      Male\n",
      "997      Male\n",
      "998      Male\n",
      "999      Male\n",
      "Name: Gender, Length: 1000, dtype: object\n"
     ]
    }
   ],
   "source": [
    "print(\"\\nGet particular column values\\n\",df['Gender'])"
   ]
  },
  {
   "cell_type": "code",
   "execution_count": 10,
   "id": "db37b3ae",
   "metadata": {},
   "outputs": [
    {
     "name": "stdout",
     "output_type": "stream",
     "text": [
      "\n",
      "Extract/slice the table values.[including this row,excluding this row]\n",
      "   First Name  Gender Start Date Last Login Time  Salary  Bonus %  \\\n",
      "2      Maria  Female  4/23/1993        11:17 AM  130590   11.858   \n",
      "3      Jerry    Male   3/4/2005         1:00 PM  138705    9.340   \n",
      "4      Larry    Male  1/24/1998         4:47 PM  101004    1.389   \n",
      "\n",
      "  Senior Management             Team  \n",
      "2             False          Finance  \n",
      "3              True          Finance  \n",
      "4              True  Client Services  \n"
     ]
    }
   ],
   "source": [
    "print(\"\\nExtract/slice the table values.[including this row,excluding this row]\\n\",df[2:5])"
   ]
  },
  {
   "cell_type": "code",
   "execution_count": 11,
   "id": "e9051e29",
   "metadata": {},
   "outputs": [
    {
     "name": "stdout",
     "output_type": "stream",
     "text": [
      "\n",
      "Get the particular row values-through row number identification\n",
      " First Name                     Larry\n",
      "Gender                          Male\n",
      "Start Date                 1/24/1998\n",
      "Last Login Time              4:47 PM\n",
      "Salary                        101004\n",
      "Bonus %                        1.389\n",
      "Senior Management               True\n",
      "Team                 Client Services\n",
      "Name: 4, dtype: object\n"
     ]
    }
   ],
   "source": [
    "print(\"\\nGet the particular row values-through row number identification\\n\",df.loc[4])"
   ]
  },
  {
   "cell_type": "code",
   "execution_count": 12,
   "id": "d82abfab",
   "metadata": {},
   "outputs": [
    {
     "name": "stdout",
     "output_type": "stream",
     "text": [
      "\n",
      "Get the particular row values-through'Gender'identification\n",
      " Empty DataFrame\n",
      "Columns: [First Name, Gender, Start Date, Last Login Time, Salary, Bonus %, Senior Management, Team]\n",
      "Index: []\n"
     ]
    }
   ],
   "source": [
    "print(\"\\nGet the particular row values-through'Gender'identification\\n\",d.loc[d['Gender']==99])"
   ]
  },
  {
   "cell_type": "code",
   "execution_count": 14,
   "id": "4b1dc8e3",
   "metadata": {},
   "outputs": [
    {
     "name": "stdout",
     "output_type": "stream",
     "text": [
      "\n",
      "Make an average of total marks:\n",
      " 0      19461.6\n",
      "1      12386.6\n",
      "2      26118.0\n",
      "3      27741.0\n",
      "4      20200.8\n",
      "        ...   \n",
      "995    26496.6\n",
      "996     8478.4\n",
      "997    19382.8\n",
      "998    12100.0\n",
      "999    25989.8\n",
      "Name: Salary, Length: 1000, dtype: float64\n"
     ]
    }
   ],
   "source": [
    "df=d['Salary']/5\n",
    "print(\"\\nMake an average of total marks:\\n\",df)"
   ]
  }
 ],
 "metadata": {
  "kernelspec": {
   "display_name": "Python 3 (ipykernel)",
   "language": "python",
   "name": "python3"
  },
  "language_info": {
   "codemirror_mode": {
    "name": "ipython",
    "version": 3
   },
   "file_extension": ".py",
   "mimetype": "text/x-python",
   "name": "python",
   "nbconvert_exporter": "python",
   "pygments_lexer": "ipython3",
   "version": "3.9.12"
  }
 },
 "nbformat": 4,
 "nbformat_minor": 5
}
